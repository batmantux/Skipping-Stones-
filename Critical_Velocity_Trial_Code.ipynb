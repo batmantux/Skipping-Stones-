{
  "nbformat": 4,
  "nbformat_minor": 0,
  "metadata": {
    "colab": {
      "name": "Critical Velocity Trial Code  ",
      "provenance": []
    },
    "kernelspec": {
      "name": "python3",
      "display_name": "Python 3"
    }
  },
  "cells": [
    {
      "cell_type": "code",
      "metadata": {
        "id": "zlabyN0IHPYx"
      },
      "source": [
        "import numpy as np\n",
        "import math \n",
        "class CriticalVelocity: \n",
        "    \"\"\" Class of Critical Velocity \"\"\"\n",
        "\n",
        "    def __init__(self, o, g, M, d, a, C):\n",
        "        self.o = np.linspace(0, 90, 90)\n",
        "        self.g = 9.8\n",
        "        self.M = 0.1 \n",
        "        self.d = 1000\n",
        "        self.a = 0.1\n",
        "        self.C = 1\n",
        "\n",
        "    def u(self):\n",
        "        return np.sin(math.degrees(self.o)) + np.cos(math.degrees(self.o)) / np.cos(math.degrees(self.o)) - np.sin(math.degrees(self.o)) \n",
        "\n",
        "    def l(self):\n",
        "        return 2*3.14*np.sqrt((2*(self.M)*np.sin(math.degrees(self.o))/(self.C*self.d*self.a)))\n",
        "\n",
        "    def Vc(self):\n",
        "        return np.sqrt(2*(self.u())*(self.g)*(self.l()))\n",
        "\n",
        "def main():\n",
        "    out = CriticalVelocity(sys.argv[1], sys.argv[2], sys.argv[3], sys.argv[4], sys.argv[5], sys.argv[6])\n",
        "    print(out.u())\n",
        "    print(out.l())\n",
        "    print(out.Vc()) \n",
        "\n",
        "\n",
        "   "
      ],
      "execution_count": 10,
      "outputs": []
    },
    {
      "cell_type": "code",
      "metadata": {
        "id": "HQyRSBwXatV5"
      },
      "source": [
        ""
      ],
      "execution_count": null,
      "outputs": []
    }
  ]
}